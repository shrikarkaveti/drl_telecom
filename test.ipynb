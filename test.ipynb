{
 "cells": [
  {
   "cell_type": "code",
   "execution_count": null,
   "id": "79879317",
   "metadata": {},
   "outputs": [],
   "source": []
  },
  {
   "cell_type": "code",
   "execution_count": null,
   "id": "6e759c75",
   "metadata": {},
   "outputs": [],
   "source": [
    "#Action function\n",
    "class CustomActionSpace:\n",
    "    def _init_(self, mask, M, K, B):\n",
    "        \"\"\"\n",
    "        Initialize the custom action space.\n",
    "        \n",
    "        Parameters:\n",
    "        - mask: Binary matrix (M x B) (note : should be K x B) where 0 indicates the action must be 0.\n",
    "        - M: Maximum value for valid actions (actions range from 0 to M-1).\n",
    "        - K : number of eMBB users\n",
    "        \"\"\"\n",
    "        self.mask = np.array(mask)  # Ensure the mask is a NumPy array\n",
    "        self.M = M\n",
    "        self.K = K\n",
    "        self.B = B\n",
    "        \n",
    "        # Define a MultiDiscrete space where valid actions can be adjusted later\n",
    "        self.action_space = MultiDiscrete([M] * self.B)\n",
    "    \n",
    "    def sample(self):\n",
    "        \"\"\"\n",
    "        Generate a valid action that adheres to the mask constraints.\n",
    "        \"\"\"\n",
    "        # Initialize an empty action array\n",
    "        action = np.zeros_like(self.mask, dtype=int)\n",
    "        \n",
    "        # Iterate over each position in the mask\n",
    "        for i in range(self.mask.shape[0]):  # Rows\n",
    "            for j in range(self.mask.shape[1]):  # Columns\n",
    "                if self.mask[i, j] == 1:\n",
    "                    # If mask allows action, sample a value in [0, M-1]\n",
    "                    action[i, j] = np.random.randint(0, self.M)\n",
    "                else:\n",
    "                    # If mask disallows action, set it to 0\n",
    "                    action[i, j] = 0\n",
    "        return action\n",
    "\n",
    "var = CustomActionSpace(x,M,K,B)\n",
    "print(var.action_space)\n",
    "print(var.sample())"
   ]
  },
  {
   "cell_type": "code",
   "execution_count": 3,
   "id": "67c77af9",
   "metadata": {},
   "outputs": [
    {
     "name": "stdout",
     "output_type": "stream",
     "text": [
      "[[1 0 0 0 0 1 0 0 0 0 1 0]\n",
      " [0 1 0 0 0 0 1 0 0 0 0 1]\n",
      " [0 0 1 0 0 0 0 1 0 0 0 0]\n",
      " [0 0 0 1 0 0 0 0 1 0 0 0]\n",
      " [0 0 0 0 1 0 0 0 0 1 0 0]]\n"
     ]
    }
   ],
   "source": [
    "import random\n",
    "import numpy as np\n",
    "\n",
    "def allocate_round_robin_matrix(n_users, n_rbs):\n",
    "    \"\"\"\n",
    "    Allocates resource blocks to users using a round-robin approach and returns\n",
    "    the allocation matrix.\n",
    "\n",
    "    Args:\n",
    "        n_users (int): The number of users (rows in the matrix).\n",
    "        n_rbs (int): The number of resource blocks (columns in the matrix).\n",
    "\n",
    "    Returns:\n",
    "        numpy.ndarray: An allocation matrix of shape (n_users, n_rbs) where\n",
    "                       matrix[i, j] = 1 if user i is allocated resource block j,\n",
    "                       and 0 otherwise.\n",
    "    \"\"\"\n",
    "    allocation_matrix = np.zeros((n_users, n_rbs), dtype=int)\n",
    "    rb_index = 0\n",
    "    while rb_index < n_rbs:\n",
    "        user_index = rb_index % n_users\n",
    "        allocation_matrix[user_index, rb_index] = 1\n",
    "        rb_index += 1\n",
    "    return allocation_matrix\n",
    "\n",
    "print(allocate_round_robin_matrix(5, 12))"
   ]
  },
  {
   "cell_type": "code",
   "execution_count": null,
   "id": "5b246fef",
   "metadata": {},
   "outputs": [
    {
     "name": "stdout",
     "output_type": "stream",
     "text": [
      "[[10  0  1]\n",
      " [ 0  1  0]\n",
      " [ 0  0  0]]\n",
      "[[10  0 12]\n",
      " [ 0  1  0]\n",
      " [ 0  0  0]]\n",
      "[[10  0 12]\n",
      " [ 0  1  0]\n",
      " [ 0  0  0]]\n"
     ]
    }
   ],
   "source": [
    "import numpy as np\n",
    "\n",
    "class Dataset:\n",
    "\tdef __init__(self):\n",
    "\t\tself.data = np.array([[1, 0, 1], [0, 1, 0], [0, 0, 0]])\n",
    "\t\tself.last_action = (0, 0, None)\n",
    "\n",
    "\tdef perform_action(self, agent_action) -> bool:\n",
    "        # Iterate over each position in the rb_user_martrix to allocate the resources\n",
    "\t\tfor i in range(self.last_action[0], self.data.shape[0]):  # Rows\n",
    "\t\t\tfor j in range(self.last_action[1], self.data.shape[1]):  # Columns\n",
    "\t\t\t\tif self.data[i, j] != 0:\n",
    "\t\t\t\t\t# If mask allows action, sample a value in [0, M-1]\n",
    "\t\t\t\t\tself.data[i][j] = agent_action\n",
    "\t\t\t\t\tself.last_action = (i, j + 1, agent_action)\n",
    "\t\t\t\t\treturn\n",
    "\t\t\t\telse:\n",
    "\t\t\t\t\tcontinue\n",
    "\n",
    "\t\twhile()\n",
    "\n",
    "if __name__==\"__main__\":\n",
    "\tmodel = Dataset()\n",
    "\n",
    "\tmodel.perform_action(10)\n",
    "\tprint(model.data)\n",
    "\n",
    "\tmodel.perform_action(12)\n",
    "\tprint(model.data)\n",
    "\n",
    "\tmodel.perform_action(14)\n",
    "\tprint(model.data)"
   ]
  },
  {
   "cell_type": "code",
   "execution_count": null,
   "id": "c961ee7d",
   "metadata": {},
   "outputs": [],
   "source": [
    "import numpy as np\n",
    "\n",
    "class Dataset:\n",
    "\tdef __init__(self):\n",
    "\t\tself.data = np.array([[1, 0, 1], [0, 1, 0], [0, 0, 0]])\n",
    "\t\tself.last_action = (0, 0, None)\n",
    "\n",
    "\tdef perform_action(self, agent_action) -> bool:\n",
    "\n",
    "\t\t# while()\n",
    "\t\t\t\t\n",
    "\n",
    "\t\t\t\t\n",
    "\n",
    "\n",
    "\n",
    "if __name__==\"__main__\":\n",
    "\tmodel = Dataset()\n",
    "\n",
    "\tmodel.perform_action(10)\n",
    "\tprint(model.data)\n",
    "\n",
    "\tmodel.perform_action(12)\n",
    "\tprint(model.data)\n",
    "\n",
    "\tmodel.perform_action(14)\n",
    "\tprint(model.data)"
   ]
  },
  {
   "cell_type": "code",
   "execution_count": null,
   "id": "fb951e62",
   "metadata": {},
   "outputs": [
    {
     "name": "stdout",
     "output_type": "stream",
     "text": [
      "2 0\n"
     ]
    }
   ],
   "source": [
    "import numpy as np\n",
    "\n",
    "array = np.array([[1, 0, 0], [0, 1, 0], [0, 0, 1]])\n",
    "size = (array.shape[0] * array.shape[1])\n",
    "\n",
    "i = 0\n",
    "j = 0\n",
    "\n",
    "index = (i + j + 1) % size\n",
    "\n",
    "i = int(index / array.shape[0])\n",
    "j = index % array.shape[0]\n",
    "\n",
    "while(array[i][j] != 0):\n",
    "    array[i][j] = random.randint(1, 5)\n",
    "\n",
    "\n",
    "print(i, j)"
   ]
  }
 ],
 "metadata": {
  "kernelspec": {
   "display_name": "drl_env",
   "language": "python",
   "name": "python3"
  },
  "language_info": {
   "codemirror_mode": {
    "name": "ipython",
    "version": 3
   },
   "file_extension": ".py",
   "mimetype": "text/x-python",
   "name": "python",
   "nbconvert_exporter": "python",
   "pygments_lexer": "ipython3",
   "version": "3.9.22"
  }
 },
 "nbformat": 4,
 "nbformat_minor": 5
}
